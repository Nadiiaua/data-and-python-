{
  "nbformat": 4,
  "nbformat_minor": 0,
  "metadata": {
    "colab": {
      "provenance": [],
      "include_colab_link": true
    },
    "kernelspec": {
      "name": "python3",
      "display_name": "Python 3"
    }
  },
  "cells": [
    {
      "cell_type": "markdown",
      "metadata": {
        "id": "view-in-github",
        "colab_type": "text"
      },
      "source": [
        "<a href=\"https://colab.research.google.com/github/Nadiiaua/data-and-python-/blob/main/%2207_SelectionChallenge_ipynb%22.ipynb\" target=\"_parent\"><img src=\"https://colab.research.google.com/assets/colab-badge.svg\" alt=\"Open In Colab\"/></a>"
      ]
    },
    {
      "cell_type": "markdown",
      "metadata": {
        "id": "-QxAKPD8DZfj"
      },
      "source": [
        "# Three selection challenges\n",
        "\n",
        "---\n"
      ]
    },
    {
      "cell_type": "markdown",
      "metadata": {
        "id": "2KYUALILDcM9"
      },
      "source": [
        "### Challenge 1 - password format  \n",
        "\n",
        "Write a function called **check_password_valid()** which will check the validity of a **password** input by a user.\n",
        "\n",
        "Rules for a valid password are:  \n",
        "\n",
        "*  At least 1 letter between [a-z] and 1 letter between [A-Z].\n",
        "*  At least 1 number between [0-9].\n",
        "*  At least 1 character from [$#@].\n",
        "*  Minimum length 6 characters.\n",
        "*  Maximum length 16 characters.  \n",
        "\n",
        "Let the user know if the `password` they have typed is valid and, if not, where was the first error.\n",
        "\n",
        "*Hint:  to test if a set of characters is present in a password String, you can use re.search('[character set]', `password`)*  \n",
        "\n",
        "Example:   \n",
        "*if re.search('[a-z]',`password`):*    \n",
        "if there is at least 1 character a-z in the password, re.search will not be None.\n",
        "\n",
        "**re** is a pre-written Python function for pattern searching in Strings.  It has been imported for you in the code cell below.  "
      ]
    },
    {
      "cell_type": "code",
      "metadata": {
        "id": "8wBK9IA4BO2e",
        "colab": {
          "base_uri": "https://localhost:8080/"
        },
        "outputId": "3e0e6018-9027-4104-e18b-e07ac5fe4df6"
      },
      "source": [
        "import re\n",
        "\n",
        "# add your check_PasswordValid() function and call below here\n",
        "\n",
        "def check_password_valid(password):\n",
        "    if len(password) < 6 or len(password) > 16:\n",
        "        return \"Invalid password: Length should be between 6 and 16 characters.\"\n",
        "    if not re.search(r'[a-z]', password):\n",
        "        return \"Invalid password: Missing lowercase letter (a-z).\"\n",
        "    if not re.search(r'[A-Z]', password):\n",
        "        return \"Invalid password: Missing uppercase letter (A-Z).\"\n",
        "    if not re.search(r'[0-9]', password):\n",
        "        return \"Invalid password: Missing digit (0-9).\"\n",
        "    if not re.search(r'[$#@]', password):\n",
        "        return \"Invalid password: Missing special character ($, #, or @).\"\n",
        "    return \"Valid password\"\n",
        "\n",
        "password = input(\"Enter a password: \")\n",
        "result = check_password_valid(password)\n",
        "print(result)"
      ],
      "execution_count": 4,
      "outputs": [
        {
          "output_type": "stream",
          "name": "stdout",
          "text": [
            "Enter a password: Gksloen$gsh23\n",
            "Valid password\n"
          ]
        }
      ]
    },
    {
      "cell_type": "markdown",
      "metadata": {
        "id": "f0R4GYTEFQS-"
      },
      "source": [
        "---\n",
        "### Challenge 2 - triangle shape  \n",
        "\n",
        "Write a function called **evaluate_triangle_shape()** which will check if a triangle is equilateral, isosceles or scalene, based on the three side lengths entered by a user (**x**, **y** and **z**.\n",
        "\n",
        "An equilateral triangle is a triangle in which all three sides are equal.\n",
        "A scalene triangle is a triangle that has three unequal sides.\n",
        "An isosceles triangle is a triangle with (at least) two equal sides.\n",
        "\n",
        "For example:  \n",
        "A triange with side lengths                                 \n",
        "x: 6                                                                    \n",
        "y: 8                                                                    \n",
        "z: 12                                                                   \n",
        "is a *Scalene triangle*\n",
        "\n",
        "A triangle with side lengths\n",
        "x:5  \n",
        "y:3   \n",
        "z:5  \n",
        "is an *Isosceles triangle*"
      ]
    },
    {
      "cell_type": "code",
      "metadata": {
        "id": "oBgl4ro1DVL0",
        "colab": {
          "base_uri": "https://localhost:8080/"
        },
        "outputId": "5ad4cccb-368f-4b87-9ec7-109617f56276"
      },
      "source": [
        "def evaluate_triangle_shape(x, y, z):\n",
        "    if x == y == z:\n",
        "        return \"Equilateral triangle\"\n",
        "    elif x == y or x == z or y == z:\n",
        "        return \"Isosceles triangle\"\n",
        "    else:\n",
        "        return \"Scalene triangle\"\n",
        "x = float(input(\"Enter the length of side x: \"))\n",
        "y = float(input(\"Enter the length of side y: \"))\n",
        "z = float(input(\"Enter the length of side z: \"))\n",
        "\n",
        "result = evaluate_triangle_shape(x, y, z)\n",
        "\n",
        "print(f\"A triangle with side lengths x:{x}, y:{y}, z:{z} is a {result}.\")\n"
      ],
      "execution_count": 5,
      "outputs": [
        {
          "output_type": "stream",
          "name": "stdout",
          "text": [
            "Enter the length of side x: 6\n",
            "Enter the length of side y: 8\n",
            "Enter the length of side z: 12\n",
            "A triangle with side lengths x:6.0, y:8.0, z:12.0 is a Scalene triangle.\n"
          ]
        }
      ]
    },
    {
      "cell_type": "markdown",
      "metadata": {
        "id": "hr2EotkqG33l"
      },
      "source": [
        "---\n",
        "### Challenge 3 - which season\n",
        "\n",
        "Write a function called **determine_season()** which will ask the user to enter two integers representing a **month** and **day** and prints the season for that month and day.\n",
        "\n",
        "Note:  for this exercise the season dates are:\n",
        "*  Winter December 21 to March 20    \n",
        "*  Spring March 21 to June 20  \n",
        "*  Summer June 21 to September 20  \n",
        "*  Autumn September 21 to December 20\n",
        "\n",
        "Test input:  \n",
        "Input the month (e.g. January, February etc.): 7                     \n",
        "Input the day: 31                                                       \n",
        "\n",
        "Expected output:  \n",
        "Season is summer\n",
        "\n",
        "*Note: this will require multiple and or or operators and you should use brackets to help Python know which operations to do first*  \n",
        "\n",
        "*For an extra challenge you can check that the day is valid for the month*"
      ]
    },
    {
      "cell_type": "code",
      "metadata": {
        "id": "cvbfz8nzG4IL",
        "colab": {
          "base_uri": "https://localhost:8080/"
        },
        "outputId": "a83b3136-0248-40a9-a0e5-db16b89f8dcf"
      },
      "source": [
        "def determine_season():\n",
        "    month = input(\"Input the month (e.g. January, February, etc.): \").lower()\n",
        "    day = int(input(\"Input the day: \"))\n",
        "\n",
        "    if month in [\"december\", \"january\", \"february\"]:\n",
        "        if (month == \"december\" and day >= 21) or (month == \"january\") or (month == \"february\" and day <= 20):\n",
        "            season = \"Winter\"\n",
        "    elif month in [\"march\", \"april\", \"may\"]:\n",
        "        if (month == \"march\" and day >= 21) or (month == \"april\") or (month == \"may\" and day <= 20):\n",
        "            season = \"Spring\"\n",
        "    elif month in [\"june\", \"july\", \"august\"]:\n",
        "        if (month == \"june\" and day >= 21) or (month == \"july\") or (month == \"august\" and day <= 20):\n",
        "            season = \"Summer\"\n",
        "    elif month in [\"september\", \"october\", \"november\"]:\n",
        "        if (month == \"september\" and day >= 21) or (month == \"october\") or (month == \"november\" and day <= 20):\n",
        "            season = \"Autumn\"\n",
        "    else:\n",
        "        season = \"Invalid\"\n",
        "\n",
        "    if season != \"Invalid\":\n",
        "        print(f\"Season is {season}\")\n",
        "    else:\n",
        "        print(\"Invalid input. Please check your month and day values.\")\n",
        "\n",
        "determine_season()\n",
        "\n"
      ],
      "execution_count": 17,
      "outputs": [
        {
          "output_type": "stream",
          "name": "stdout",
          "text": [
            "Input the month (e.g. January, February, etc.): july\n",
            "Input the day: 31\n",
            "Season is Summer\n"
          ]
        }
      ]
    }
  ]
}